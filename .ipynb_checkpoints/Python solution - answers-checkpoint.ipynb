{
 "cells": [
  {
   "cell_type": "code",
   "execution_count": 1,
   "id": "0bc2cafa-acc2-456f-960d-bcdb9030282d",
   "metadata": {},
   "outputs": [],
   "source": [
    "import numpy as np\n",
    "import pandas as pd"
   ]
  },
  {
   "cell_type": "code",
   "execution_count": 6,
   "id": "f22358a0-bd32-43a4-8520-de998cb6234d",
   "metadata": {},
   "outputs": [],
   "source": [
    "album = pd.read_csv(r'data/album.csv')\n",
    "artist = pd.read_csv(r'data/artist.csv')\n",
    "customer = pd.read_csv(r'data/customer.csv')\n",
    "employee = pd.read_csv(r'data/employee.csv')\n",
    "genre = pd.read_csv(r'data/genre.csv')\n",
    "invoice_line = pd.read_csv(r'data/invoice_line.csv')\n",
    "invoice = pd.read_csv(r'data/invoice.csv')\n",
    "media_type = pd.read_csv(r'data/media_type.csv')\n",
    "playlist_track = pd.read_csv(r'data/playlist_track.csv')\n",
    "playlist = pd.read_csv(r'data/playlist.csv')\n",
    "track = pd.read_csv(r'data/track.csv')\n"
   ]
  },
  {
   "cell_type": "code",
   "execution_count": 26,
   "id": "aa232003-7e40-48e1-b044-f2c380ebb0e8",
   "metadata": {},
   "outputs": [
    {
     "data": {
      "text/html": [
       "<div>\n",
       "<style scoped>\n",
       "    .dataframe tbody tr th:only-of-type {\n",
       "        vertical-align: middle;\n",
       "    }\n",
       "\n",
       "    .dataframe tbody tr th {\n",
       "        vertical-align: top;\n",
       "    }\n",
       "\n",
       "    .dataframe thead th {\n",
       "        text-align: right;\n",
       "    }\n",
       "</style>\n",
       "<table border=\"1\" class=\"dataframe\">\n",
       "  <thead>\n",
       "    <tr style=\"text-align: right;\">\n",
       "      <th></th>\n",
       "      <th>employee_id</th>\n",
       "      <th>last_name</th>\n",
       "      <th>first_name</th>\n",
       "      <th>title</th>\n",
       "      <th>reports_to</th>\n",
       "      <th>levels</th>\n",
       "      <th>birthdate</th>\n",
       "      <th>hire_date</th>\n",
       "      <th>address</th>\n",
       "      <th>city</th>\n",
       "      <th>state</th>\n",
       "      <th>country</th>\n",
       "      <th>postal_code</th>\n",
       "      <th>phone</th>\n",
       "      <th>fax</th>\n",
       "      <th>email</th>\n",
       "    </tr>\n",
       "  </thead>\n",
       "  <tbody>\n",
       "    <tr>\n",
       "      <th>8</th>\n",
       "      <td>9</td>\n",
       "      <td>Madan</td>\n",
       "      <td>Mohan</td>\n",
       "      <td>Senior General Manager</td>\n",
       "      <td>NaN</td>\n",
       "      <td>L7</td>\n",
       "      <td>26-01-1961 00:00</td>\n",
       "      <td>14-01-2016 00:00</td>\n",
       "      <td>1008 Vrinda Ave MT</td>\n",
       "      <td>Edmonton</td>\n",
       "      <td>AB</td>\n",
       "      <td>Canada</td>\n",
       "      <td>T5K 2N1</td>\n",
       "      <td>+1 (780) 428-9482</td>\n",
       "      <td>+1 (780) 428-3457</td>\n",
       "      <td>madan.mohan@chinookcorp.com</td>\n",
       "    </tr>\n",
       "  </tbody>\n",
       "</table>\n",
       "</div>"
      ],
      "text/plain": [
       "   employee_id last_name first_name                   title  reports_to  \\\n",
       "8            9     Madan      Mohan  Senior General Manager         NaN   \n",
       "\n",
       "  levels         birthdate         hire_date             address      city  \\\n",
       "8     L7  26-01-1961 00:00  14-01-2016 00:00  1008 Vrinda Ave MT  Edmonton   \n",
       "\n",
       "  state country postal_code              phone                fax  \\\n",
       "8    AB  Canada     T5K 2N1  +1 (780) 428-9482  +1 (780) 428-3457   \n",
       "\n",
       "                         email  \n",
       "8  madan.mohan@chinookcorp.com  "
      ]
     },
     "execution_count": 26,
     "metadata": {},
     "output_type": "execute_result"
    }
   ],
   "source": [
    "# 1. Who is the senior most employee based on the job title?\n",
    "\n",
    "employee.sort_values('levels',ascending=False)[:1]\n"
   ]
  },
  {
   "cell_type": "code",
   "execution_count": null,
   "id": "3cbae755-20b8-4ad2-9646-e993ddec29c7",
   "metadata": {},
   "outputs": [],
   "source": []
  },
  {
   "cell_type": "code",
   "execution_count": null,
   "id": "67a61bc3-1624-4216-9d8e-07e7d1d9eefa",
   "metadata": {},
   "outputs": [],
   "source": []
  },
  {
   "cell_type": "code",
   "execution_count": null,
   "id": "269897df-fa78-4a39-bbbf-504bbd418678",
   "metadata": {},
   "outputs": [],
   "source": []
  },
  {
   "cell_type": "code",
   "execution_count": null,
   "id": "42460982-de69-4e2c-b6e1-1bddef058dab",
   "metadata": {},
   "outputs": [],
   "source": []
  },
  {
   "cell_type": "code",
   "execution_count": null,
   "id": "764885e4-55fa-421a-b7ac-184182042f84",
   "metadata": {},
   "outputs": [],
   "source": []
  },
  {
   "cell_type": "code",
   "execution_count": null,
   "id": "e1b3d156-3447-492e-9ef2-0ef79155be39",
   "metadata": {},
   "outputs": [],
   "source": []
  },
  {
   "cell_type": "code",
   "execution_count": null,
   "id": "fb44cc72-3ff0-4b11-a75b-f38b4a429a41",
   "metadata": {},
   "outputs": [],
   "source": []
  },
  {
   "cell_type": "code",
   "execution_count": null,
   "id": "8c32db92-26fa-4476-a632-16f518127db6",
   "metadata": {},
   "outputs": [],
   "source": []
  },
  {
   "cell_type": "code",
   "execution_count": null,
   "id": "095e8ab1-1027-4377-a6b7-12bca182f6e2",
   "metadata": {},
   "outputs": [],
   "source": []
  },
  {
   "cell_type": "code",
   "execution_count": null,
   "id": "2af12cac-77be-4372-ac80-9dd76b9fb765",
   "metadata": {},
   "outputs": [],
   "source": []
  },
  {
   "cell_type": "code",
   "execution_count": null,
   "id": "5f1f3c47-9fcb-4255-8938-d7af84378bb8",
   "metadata": {},
   "outputs": [],
   "source": []
  },
  {
   "cell_type": "code",
   "execution_count": null,
   "id": "f2cd5fef-ff09-4e09-b928-338c5632be80",
   "metadata": {},
   "outputs": [],
   "source": []
  },
  {
   "cell_type": "code",
   "execution_count": null,
   "id": "46006822-df86-48ef-94be-3162eb6b5c1e",
   "metadata": {},
   "outputs": [],
   "source": []
  },
  {
   "cell_type": "code",
   "execution_count": null,
   "id": "f924df92-5c26-4bd9-8558-f5649835bf72",
   "metadata": {},
   "outputs": [],
   "source": []
  },
  {
   "cell_type": "code",
   "execution_count": null,
   "id": "a29c7399-5543-47f5-a342-945fdb8978a2",
   "metadata": {},
   "outputs": [],
   "source": []
  },
  {
   "cell_type": "code",
   "execution_count": null,
   "id": "1d80b9f7-a385-44a8-9652-8d5064baad5f",
   "metadata": {},
   "outputs": [],
   "source": []
  }
 ],
 "metadata": {
  "kernelspec": {
   "display_name": "Python 3 (ipykernel)",
   "language": "python",
   "name": "python3"
  },
  "language_info": {
   "codemirror_mode": {
    "name": "ipython",
    "version": 3
   },
   "file_extension": ".py",
   "mimetype": "text/x-python",
   "name": "python",
   "nbconvert_exporter": "python",
   "pygments_lexer": "ipython3",
   "version": "3.12.2"
  }
 },
 "nbformat": 4,
 "nbformat_minor": 5
}
